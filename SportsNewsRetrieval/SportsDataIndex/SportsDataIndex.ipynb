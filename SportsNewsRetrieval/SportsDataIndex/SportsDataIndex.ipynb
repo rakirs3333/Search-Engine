{
 "cells": [
  {
   "cell_type": "code",
   "execution_count": 1,
   "id": "8159b350-cc58-4190-a06f-f15450bfae70",
   "metadata": {
    "tags": []
   },
   "outputs": [],
   "source": [
    "import json\n",
    "import time\n",
    "# import matplotlib.pyplot as plt"
   ]
  },
  {
   "cell_type": "code",
   "execution_count": 19,
   "id": "b9e867ac-1b7c-4cf9-8a69-aeecdf1d711f",
   "metadata": {
    "tags": []
   },
   "outputs": [],
   "source": [
    "with open(\"test/SportsDataFinal.jsonl\", \"r\") as read_file:\n",
    "    sample_doc = json.load(read_file)\n",
    "     pass"
   ]
  },
  {
   "cell_type": "code",
   "execution_count": 31,
   "id": "da3d0f58-c0a6-40f2-9181-249fa6c24f3d",
   "metadata": {
    "tags": []
   },
   "outputs": [
    {
     "name": "stdout",
     "output_type": "stream",
     "text": [
      "[{'Score': 5.445286750793457, 'Title': 'Survey: 36% more Americans expected to bet on NFL this season compared to last', 'Url': 'https://www.espn.com/chalk/story/_/id/32165147/survey-36-more-americans-expected-bet-nfl-season-compared-last'}, {'Score': 5.445286750793457, 'Title': 'Survey: 36% more Americans expected to bet on NFL this season compared to last', 'Url': 'https://www.espn.com/chalk/story/_/id/32165147/survey-36-more-americans-expected-bet-nfl-season-compared-last'}, {'Score': 5.445286750793457, 'Title': 'Survey: 36% more Americans expected to bet on NFL this season compared to last', 'Url': 'https://www.espn.com/chalk/story/_/id/32165147/survey-36-more-americans-expected-bet-nfl-season-compared-last'}, {'Score': 5.347653388977051, 'Title': 'NFL to allow betting lounges in stadiums, but no gambling', 'Url': 'http://www.espn.com/nfl/story/_/id/28751624/nfl-allow-betting-lounges-stadiums-no-gambling'}, {'Score': 5.347653388977051, 'Title': 'NFL to allow betting lounges in stadiums, but no gambling', 'Url': 'http://www.espn.com/nfl/story/_/id/28751624/nfl-allow-betting-lounges-stadiums-no-gambling'}, {'Score': 5.339228630065918, 'Title': 'Why the NFL remains a popular bet in the United Kingdom', 'Url': 'https://www.espn.com/chalk/story/_/id/34695673/why-nfl-remains-popular-bet-united-kingdom'}, {'Score': 5.295105934143066, 'Title': \"Source: Arizona Cardinals' Josh Shaw appeals suspension for gambling\", 'Url': 'http://www.espn.com/chalk/story/_/id/28220154/source-arizona-cardinals-josh-shaw-appeals-suspension-gambling'}, {'Score': 5.294337749481201, 'Title': 'NFL to partner with bookmakers Caesars Entertainment, DraftKings and FanDuel', 'Url': 'https://www.espn.com/nfl/story/_/id/31264425/nfl-partner-bookmakers-caesars-entertainment-draftkings-fanduel'}, {'Score': 5.284088134765625, 'Title': \"FAQ: The big questions around Josh Shaw's suspension for gambling\", 'Url': 'http://www.espn.com/chalk/story/_/id/28231757/the-big-questions-surrounding-josh-shaw-suspension-gambling'}, {'Score': 5.272024154663086, 'Title': 'New CBA allows owners, players to cash in on stadium sportsbooks', 'Url': 'http://www.espn.com/chalk/story/_/id/28930507/new-cba-allows-owners-players-cash-stadium-sportsbooks'}]\n"
     ]
    }
   ],
   "source": [
    "import logging, sys\n",
    "logging.disable(sys.maxsize)\n",
    "\n",
    "import lucene\n",
    "import os\n",
    "from org.apache.lucene.store import MMapDirectory, SimpleFSDirectory, NIOFSDirectory\n",
    "from java.nio.file import Paths\n",
    "from org.apache.lucene.analysis.standard import StandardAnalyzer\n",
    "from org.apache.lucene.analysis.en import EnglishAnalyzer\n",
    "from org.apache.lucene.document import Document, Field, FieldType\n",
    "from org.apache.lucene.queryparser.classic import QueryParser\n",
    "from org.apache.lucene.index import FieldInfo, IndexWriter, IndexWriterConfig, IndexOptions, DirectoryReader\n",
    "from org.apache.lucene.search import IndexSearcher, BoostQuery, Query\n",
    "from org.apache.lucene.search.similarities import BM25Similarity\n",
    "\n",
    "def create_index(dir):\n",
    "    start_time = time.time()\n",
    "    if not os.path.exists(dir):\n",
    "        os.mkdir(dir)\n",
    "    store = SimpleFSDirectory(Paths.get(dir))\n",
    "    analyzer = EnglishAnalyzer()\n",
    "    # for stop_word in analyzer.getDefaultStopSet():\n",
    "        # print(str(stop_word))\n",
    "    config = IndexWriterConfig (analyzer)\n",
    "    config.setOpenMode(IndexWriterConfig.OpenMode.CREATE)\n",
    "    writer = IndexWriter(store, config)\n",
    "    \n",
    "\n",
    "    titleType = FieldType()\n",
    "    titleType.setStored(True)\n",
    "    titleType.setTokenized(True)\n",
    "    titleType.setIndexOptions(IndexOptions.DOCS_AND_FREQS_AND_POSITIONS)\n",
    "\n",
    "    contextType = FieldType()\n",
    "    contextType.setStored(False)\n",
    "    contextType.setTokenized(True)\n",
    "    contextType.setIndexOptions(IndexOptions.DOCS_AND_FREQS_AND_POSITIONS)\n",
    "    \n",
    "    urlType = FieldType()\n",
    "    urlType.setStored(True)\n",
    "    urlType.setTokenized(False)\n",
    "    urlType.setIndexOptions(IndexOptions.DOCS_AND_FREQS_AND_POSITIONS)\n",
    "    \n",
    "    i=0\n",
    "    time_taken=[]\n",
    "    # print(len(sample_doc))\n",
    "    for sample in sample_doc:\n",
    "        i+=1\n",
    "        title = sample['title']\n",
    "        context = sample['text']\n",
    "        url = sample['url']\n",
    "        if i%20000 == 0:\n",
    "            end_time = time.time()\n",
    "            time_so_far = (end_time - start_time)\n",
    "            time_taken.append(time_so_far)\n",
    "            print('time taken to index ' + str(i) + ' Documents: ' + str(round(time_so_far, 2)) + ' Seconds')\n",
    "        doc = Document()\n",
    "        doc.add(Field('Title', str(title), titleType))\n",
    "        doc.add(Field('Context', str(context), contextType))\n",
    "        doc.add(Field('Url', str(url), urlType))\n",
    "        writer.addDocument(doc)\n",
    "    writer.close()\n",
    "    end_time = time.time()\n",
    "    total_time = end_time - start_time\n",
    "    # x = []\n",
    "    # for i in range(1,len(time_taken)+1):\n",
    "    #     x.append(i*5000)\n",
    "    # plt.plot(x,time_taken)\n",
    "    # plt.ylabel('Time in seconds')\n",
    "    # plt.xlabel('No of Records indexed')\n",
    "    # plt.title('Lucene Indexing Time Plot')\n",
    "    # plt.show()\n",
    "    # plt.plot(time_taken)\n",
    "    # print(time_taken)\n",
    "    print('Total indexing time:' + str(round(time_so_far, 2)) + 'seconds')\n",
    "\n",
    "def retrieve(storedir, query):\n",
    "    searchDir = NIOFSDirectory(Paths.get(storedir))\n",
    "    searcher = IndexSearcher(DirectoryReader.open(searchDir))\n",
    "    \n",
    "    parser = QueryParser('Context', EnglishAnalyzer())\n",
    "    # parser.addMultiField('Title',EnglishAnalyzer())\n",
    "    parsed_query = parser.parse(query)\n",
    "\n",
    "    topDocs = searcher.search(parsed_query, 10).scoreDocs\n",
    "    topkdocs = []\n",
    "    for hit in topDocs:\n",
    "        doc = searcher.doc(hit.doc)\n",
    "        topkdocs.append({\n",
    "            \"Score\": hit.score,\n",
    "            \"Title\":doc.get(\"Title\"),\n",
    "            # \"Context\": doc.get(\"Context\"),\n",
    "            \"Url\": doc.get(\"Url\")\n",
    "        })\n",
    "    \n",
    "    print(topkdocs)\n",
    "\n",
    "\n",
    "# lucene.initVM(vmargs=['-Djava.awt.headless=true'])\n",
    "# create_index('SportsDataIndex/')\n",
    "retrieve('SportsDataIndex/', 'Atlanta Braves manager Brian Snitker')"
   ]
  },
  {
   "cell_type": "code",
   "execution_count": null,
   "id": "6263ad53-9cfb-4d21-8d29-88c7bdf7d6d5",
   "metadata": {},
   "outputs": [],
   "source": []
  }
 ],
 "metadata": {
  "kernelspec": {
   "display_name": "Python 3 (ipykernel)",
   "language": "python",
   "name": "python3"
  },
  "language_info": {
   "codemirror_mode": {
    "name": "ipython",
    "version": 3
   },
   "file_extension": ".py",
   "mimetype": "text/x-python",
   "name": "python",
   "nbconvert_exporter": "python",
   "pygments_lexer": "ipython3",
   "version": "3.8.10"
  }
 },
 "nbformat": 4,
 "nbformat_minor": 5
}
